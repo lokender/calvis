{
 "cells": [
  {
   "cell_type": "code",
   "execution_count": 1,
   "metadata": {},
   "outputs": [],
   "source": [
    "import os\n",
    "import locale\n",
    "import sys\n",
    "sys.path.append(\"./../code/\")\n",
    "from calvis import Calvis\n",
    "# change locale to load meshes in obj format with . as decimal separator.\n",
    "locale.setlocale(locale.LC_NUMERIC,\"C\")\n",
    "\n",
    "\n",
    "calvispath = (\"./../data/human_body_meshes/\")\n",
    "smpl_data_folder = os.path.abspath(\"./../datageneration/smpl_data\")\n",
    "\n",
    "SMPL_basicModel_f_lbs_path = os.path.join(\n",
    "    smpl_data_folder, \"basicModel_f_lbs_10_207_0_v1.0.0.pkl\"\n",
    ")\n",
    "SMPL_basicModel_m_lbs_path = os.path.join(\n",
    "    smpl_data_folder, \"basicmodel_m_lbs_10_207_0_v1.0.0.pkl\"\n",
    ")              "
   ]
  },
  {
   "cell_type": "code",
   "execution_count": 2,
   "metadata": {},
   "outputs": [],
   "source": [
    "files = []\n",
    "genders = []\n",
    "meshes = []\n",
    "# r=root, d=directories, f = files\n",
    "for r, d, f in os.walk(calvispath):\n",
    "    for file in f:\n",
    "        if '.obj' in file:\n",
    "            files.append(os.path.join(r, file))\n",
    "            genders.append('female' if 'female' == r[-6:] else 'male')\n",
    "\n",
    "SMPL_basicModel = {\n",
    "    \"f\": SMPL_basicModel_f_lbs_path,\n",
    "    \"m\": SMPL_basicModel_m_lbs_path,\n",
    "}"
   ]
  },
  {
   "cell_type": "code",
   "execution_count": 6,
   "metadata": {},
   "outputs": [
    {
     "name": "stdout",
     "output_type": "stream",
     "text": [
      "\u001b[1mChest circunference length is: 1.026494848195509\u001b[0m\n",
      "\u001b[1mWaist circunference length is: 0.9472481454230451\u001b[0m\n",
      "\u001b[1mPelvis circunference length is: 1.0652334877389766\u001b[0m\n"
     ]
    },
    {
     "data": {
      "application/vnd.jupyter.widget-view+json": {
       "model_id": "347304087147448fb9780a69fd824b7c",
       "version_major": 2,
       "version_minor": 0
      },
      "text/plain": [
       "Plot(antialias=3, axes=['x', 'y', 'z'], axes_helper=1.0, background_color=16777215, camera=[0.0245356540563071…"
      ]
     },
     "metadata": {},
     "output_type": "display_data"
    }
   ],
   "source": [
    "# plotter\n",
    "from vtkplotter import Plotter, trimesh2vtk, settings, write, Text, printc\n",
    "settings.embedWindow(backend=\"k3d\")\n",
    "vp = Plotter()\n",
    "# Calvis\n",
    "calvis = Calvis()\n",
    "\n",
    "m = 0.005\n",
    "N = 55\n",
    "\n",
    "for i, meshi in enumerate(files, 0):\n",
    "\n",
    "    # meshpath\n",
    "    meshpath = files[i]\n",
    "\n",
    "    calvis.calvis_clear()\n",
    "\n",
    "    calvis.mesh_path(meshpath)\n",
    "    calvis.load_trimesh()\n",
    "    calvis.fit_SMPL_model_to_mesh(SMPL_basicModel, gender=genders[i])\n",
    "\n",
    "    calvis.segmentation(N=N)\n",
    "\n",
    "    calvis.assemble_mesh_signatur(m=m)\n",
    "\n",
    "    calvis.assemble_slice_statistics()\n",
    "\n",
    "    cc = calvis.chest_circumference()\n",
    "    ccslice_2D, to_3D = cc.to_planar()\n",
    "    cc_actor = trimesh2vtk(cc).unpack()[0].lw(2)\n",
    "\n",
    "    wc = calvis.waist_circumference()\n",
    "    wcslice_2D, to_3D = wc.to_planar()\n",
    "    wc_actor = trimesh2vtk(wc).unpack()[0].lw(2)\n",
    "\n",
    "    pc = calvis.pelvis_circumference()\n",
    "    pcslice_2D, to_3D = pc.to_planar()\n",
    "    pc_actor = trimesh2vtk(pc).unpack()[0].lw(2)\n",
    "\n",
    "    text = Text(\"Subject no. %s\" % (i + 1))\n",
    "\n",
    "    # Print info\n",
    "    printc(\"Chest circunference length is: %s\" % ccslice_2D.length)\n",
    "    printc(\"Waist circunference length is: %s\" % wcslice_2D.length)\n",
    "    printc(\"Pelvis circunference length is: %s\" % pcslice_2D.length)\n",
    "\n",
    "    # View the human dimensions\n",
    "    slices = []\n",
    "    slices.append(cc)\n",
    "    slices.append(wc)\n",
    "    slices.append(pc)\n",
    "\n",
    "    human = vp.load(meshpath)\n",
    "    vp += human\n",
    "    vp += cc\n",
    "    vp += wc\n",
    "    vp += pc\n",
    "    break\n",
    "\n",
    "vp.show()"
   ]
  },
  {
   "cell_type": "code",
   "execution_count": null,
   "metadata": {},
   "outputs": [],
   "source": []
  },
  {
   "cell_type": "code",
   "execution_count": null,
   "metadata": {},
   "outputs": [],
   "source": []
  }
 ],
 "metadata": {
  "kernelspec": {
   "display_name": "py37",
   "language": "python",
   "name": "py37"
  },
  "language_info": {
   "codemirror_mode": {
    "name": "ipython",
    "version": 3
   },
   "file_extension": ".py",
   "mimetype": "text/x-python",
   "name": "python",
   "nbconvert_exporter": "python",
   "pygments_lexer": "ipython3",
   "version": "3.7.6"
  }
 },
 "nbformat": 4,
 "nbformat_minor": 2
}
