{
 "cells": [
  {
   "cell_type": "code",
   "execution_count": 3,
   "metadata": {
    "scrolled": true
   },
   "outputs": [
    {
     "name": "stdout",
     "output_type": "stream",
     "text": [
      "4\n",
      "<class 'list'>\n",
      "<class 'list'>\n",
      "<class 'list'>\n",
      "<class 'list'>\n",
      "ia is mesh\n",
      "<class 'vtkplotter.mesh.Mesh'>\n",
      "ia is mesh\n",
      "<class 'vtkplotter.mesh.Mesh'>\n",
      "ia is mesh\n",
      "<class 'vtkplotter.mesh.Mesh'>\n"
     ]
    },
    {
     "data": {
      "application/vnd.jupyter.widget-view+json": {
       "model_id": "ec46e19ecaf5412fbf5060955f98275f",
       "version_major": 2,
       "version_minor": 0
      },
      "text/plain": [
       "Plot(antialias=3, axes=['x', 'y', 'z'], axes_helper=1.0, background_color=16777215, camera=[3.8134633038718357…"
      ]
     },
     "metadata": {},
     "output_type": "display_data"
    }
   ],
   "source": [
    "from vtkplotter import *\n",
    "\n",
    "datadir = \"/home/neoglez/vtkplotter-examples-master/vtkplotter_examples/data/\"\n",
    "\n",
    "settings.embedWindow(backend='k3d', verbose=True)\n",
    "\n",
    "\n",
    "shape = load(datadir + \"lamp.vtk\").normalize()\n",
    "\n",
    "ms = []\n",
    "cmaps = (\"jet\", \"PuOr\", \"viridis\")\n",
    "for i in range(3):\n",
    "    s = shape.clone().pos(0, i*2.2, 0)\n",
    "\n",
    "    # colorize cells\n",
    "    scals = range(s.NCells())\n",
    "    s.cellColors(scals, cmap=cmaps[i])\n",
    "\n",
    "    # Or\n",
    "    # colorize vertices:\n",
    "    #scals = s.points()[:,i]  # define some dummy point scalar\n",
    "    #s.pointColors(scals, cmap=cmaps[i])\n",
    "\n",
    "    ms.append(s)\n",
    "\n",
    "# use flat shading and add a 2D scalar bar to first mesh\n",
    "ms[0].flat().addScalarBar(title=\"my scalarbar\\nnumber #0\", c=\"k\")\n",
    "\n",
    "# add 3D scalar bars\n",
    "ms[1].addScalarBar3D(pos=(1.0, 2.2, -2.), c=\"k\")\n",
    "ms[2].addScalarBar3D(pos=(1,0,-5), c=\"k\",\n",
    "    sy=2.8,                    # change y-size\n",
    "    title=\"A viridis 3D\\nscalarbar to play with\",\n",
    "    titleXOffset=-2,           # offset of labels\n",
    "    titleSize=1.5).rotateX(90) # make it vertical\n",
    "\n",
    "show(ms, Text2D(__doc__), axes=1, viewup='z')\n",
    "\n",
    "# can save colors to vtk or ply format:\n",
    "#ms[1].write('lamp.ply', binary=False)"
   ]
  },
  {
   "cell_type": "code",
   "execution_count": 7,
   "metadata": {},
   "outputs": [],
   "source": []
  },
  {
   "cell_type": "code",
   "execution_count": null,
   "metadata": {},
   "outputs": [],
   "source": []
  }
 ],
 "metadata": {
  "kernelspec": {
   "display_name": "py36cu10t14",
   "language": "python",
   "name": "py36cu10t14"
  },
  "language_info": {
   "codemirror_mode": {
    "name": "ipython",
    "version": 3
   },
   "file_extension": ".py",
   "mimetype": "text/x-python",
   "name": "python",
   "nbconvert_exporter": "python",
   "pygments_lexer": "ipython3",
   "version": "3.6.7"
  }
 },
 "nbformat": 4,
 "nbformat_minor": 4
}
