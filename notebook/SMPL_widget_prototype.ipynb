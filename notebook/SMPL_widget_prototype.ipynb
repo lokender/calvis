{
 "cells": [
  {
   "cell_type": "code",
   "execution_count": 1,
   "metadata": {
    "scrolled": true
   },
   "outputs": [
    {
     "name": "stdout",
     "output_type": "stream",
     "text": [
      "[ 0.02669163 -0.7694847  -0.20223089 -0.3828816  -0.6091948  -1.5911405\n",
      "  0.4343641   0.28895313  0.26301286 -0.86853117]\n",
      "[ 0.96752423 -0.06359129 -0.12249097 -0.6315959   1.1843153  -1.2808145\n",
      " -0.7655795   0.81283015 -0.5342422   0.760295  ]\n"
     ]
    }
   ],
   "source": [
    "import sys\n",
    "\n",
    "hbm_path = \"/home/neoglez/hbm/\"\n",
    "\n",
    "sys.path.append(hbm_path)\n",
    "\n",
    "import numpy as np\n",
    "import pickle\n",
    "from OSmpl import KJointPredictor, OSmplTemplate, OSmpl\n",
    "from Synthesizer import Synthesizer\n",
    "import os\n",
    "import json\n",
    "import math\n",
    "\n",
    "cmu_dataset_path = '/home/neoglez/cmu'\n",
    "cmu_dataset_meshes_path = '/home/neoglez/cmu/dataset/human_body_meshes/'\n",
    "cmu_dataset_meshes_path_length = len(cmu_dataset_meshes_path)\n",
    "cmu_dataset_annotation_path = '/home/neoglez/cmu/dataset/annotations/'\n",
    "\n",
    "SMPL_basicModel_f_lbs_path = \"./basicModel_f_lbs_10_207_0_v1.0.0.pkl\"\n",
    "SMPL_basicModel_m_lbs_path = \"./basicmodel_m_lbs_10_207_0_v1.0.0.pkl\"\n",
    "\n",
    "smpl_data_folder = (\"/home/neoglez/smpl_data/SURREAL/smpl_data/\")\n",
    "\n",
    "smpl_data_filename = (\"smpl_data.npz\")\n",
    "\n",
    "smpl_data = np.load(os.path.join(smpl_data_folder, smpl_data_filename))\n",
    "\n",
    "maleshapes = smpl_data['maleshapes']\n",
    "femaleshapes = smpl_data['femaleshapes']\n",
    "\n",
    "\n",
    "betas = {'female': femaleshapes, 'male': maleshapes}\n",
    "\n",
    "SMPL_basicModel_f_lbs_path = (\"/media/neoglez/Data1/privat/PhD_Uni_Salzburg\"\n",
    "              \"/DATASETS/smpl/models/basicModel_f_lbs_10_207_0_v1.0.0.pkl\")\n",
    "SMPL_basicModel_m_lbs_path = (\"/media/neoglez/Data1/privat/PhD_Uni_Salzburg\"\n",
    "              \"/DATASETS/smpl/models/basicmodel_m_lbs_10_207_0_v1.0.0.pkl\")\n",
    "\n",
    "try:\n",
    "    # Load pkl created in python 2.x with python 2.x\n",
    "    female_model = pickle.load(open(SMPL_basicModel_f_lbs_path, 'rb'))\n",
    "    male_model = pickle.load(open(SMPL_basicModel_m_lbs_path, 'rb'))\n",
    "except:\n",
    "    # Load pkl created in python 2.x with python 3.x\n",
    "    female_model = pickle.load(open(SMPL_basicModel_f_lbs_path, 'rb'),\n",
    "                               encoding='latin1')\n",
    "    male_model = pickle.load(open(SMPL_basicModel_m_lbs_path, 'rb'),\n",
    "                             encoding='latin1')\n",
    "\n",
    "    \n",
    "# print some betas\n",
    "print(betas['female'][2])\n",
    "print(betas['male'][2])"
   ]
  },
  {
   "cell_type": "code",
   "execution_count": 2,
   "metadata": {},
   "outputs": [],
   "source": [
    "####################################################################\n",
    "# Initialize the joints regressor as dense array (for clarity).    #\n",
    "####################################################################\n",
    "\n",
    "k_joints_predictor = female_model.get('J_regressor').A\n",
    "\n",
    "new_female_joint_regressor = KJointPredictor(k_joints_predictor)\n",
    "\n",
    "k_joints_predictor = male_model.get('J_regressor').A\n",
    "\n",
    "new_male_joint_regressor = KJointPredictor(k_joints_predictor)\n",
    "\n",
    "####################################################################\n",
    "# Initialize the Osmpl female and male template.                   #\n",
    "####################################################################\n",
    "new_female_template = OSmplTemplate(female_model.get('v_template'),\n",
    "                                    female_model.get('f'),\n",
    "                                    female_model.get('blend_weights'),\n",
    "                                    female_model.get('shape_blend_shapes'),\n",
    "                                    new_female_joint_regressor, \n",
    "                                    female_model.get('posedirs'))\n",
    "new_male_template = OSmplTemplate(male_model.get('v_template'),\n",
    "                                    male_model.get('f'),\n",
    "                                    male_model.get('blend_weights'),\n",
    "                                    male_model.get('shape_blend_shapes'),\n",
    "                                    new_male_joint_regressor, \n",
    "                                    male_model.get('posedirs'))"
   ]
  },
  {
   "cell_type": "code",
   "execution_count": 3,
   "metadata": {},
   "outputs": [],
   "source": [
    "####################################################################\n",
    "# Once we have the template we instanciate the complete model.     #\n",
    "####################################################################\n",
    "human_female_model = OSmpl(new_female_template,\n",
    "                           female_model.get('shapedirs').x,\n",
    "                           None, None)\n",
    "human_male_model = OSmpl(new_male_template,\n",
    "                         male_model.get('shapedirs').x,\n",
    "                           None, None)\n",
    "\n",
    "# Number of PCA components: The shapedirs is a tensor of shape\n",
    "# number_of_vertices x number_of_vertex_coordinate x number_of_PCA.\n",
    "# In our case this is 6890 x 3 x 10 for both female and male models.\n",
    "number_of_PCAs = female_model.get('shapedirs').shape[-1]\n",
    "\n",
    "synthesizer = Synthesizer('smpl', number_of_male_models=1,\n",
    "                          number_of_female_models=1,\n",
    "                          smpl_female_model=human_female_model,\n",
    "                          smpl_male_model=human_male_model,\n",
    "                          number_of_PCAs = number_of_PCAs,\n",
    "                          hbm_path = cmu_dataset_path)\n",
    "\n",
    "already_synthesized_females = 0\n",
    "already_synthesized_males = 0\n",
    "already_synthesized = 0\n",
    "\n",
    "padding_f = int(math.log10(len(betas['female']))) +1\n",
    "padding_m = int(math.log10(len(betas['male']))) +1\n",
    "padding = None"
   ]
  },
  {
   "cell_type": "code",
   "execution_count": 4,
   "metadata": {},
   "outputs": [
    {
     "name": "stdout",
     "output_type": "stream",
     "text": [
      "male\n",
      "1700\n",
      "1005\n",
      "[ 0.41404292  1.0881686   0.62083644  0.60892564 -0.89695305  0.45868486\n",
      "  1.9368551  -0.39499244  1.3098332  -0.7284957 ]\n"
     ]
    }
   ],
   "source": [
    "import random\n",
    "# @todo implement a button to select gender\n",
    "# select a random gender\n",
    "gender = random.choice(['female', 'male'])\n",
    "\n",
    "# manually set\n",
    "#gender = 'female'\n",
    "print(gender)\n",
    "print(len(betas[gender]))\n",
    "\n",
    "# @todo implement sliders for the 10 principal components\n",
    "# select a random element\n",
    "random_betas_idx = random.randint(0, len(betas[gender]) - 1)\n",
    "print(random_betas_idx)\n",
    "betas = betas[gender][random_betas_idx]\n",
    "print(betas)"
   ]
  },
  {
   "cell_type": "code",
   "execution_count": 5,
   "metadata": {},
   "outputs": [],
   "source": [
    "# @todo Should we save and then show/plot?\n",
    "# Synthesize human\n",
    "synthesizer.synthesize_human(betas, gender)\n",
    "human = synthesizer.return_as_obj_format(gender)"
   ]
  },
  {
   "cell_type": "code",
   "execution_count": 6,
   "metadata": {},
   "outputs": [],
   "source": [
    "from vtkplotter import *"
   ]
  },
  {
   "cell_type": "code",
   "execution_count": 7,
   "metadata": {},
   "outputs": [
    {
     "name": "stdout",
     "output_type": "stream",
     "text": [
      "[0.048528 0.515771 0.106025]\n",
      "[1 2 0]\n"
     ]
    }
   ],
   "source": [
    "verts = np.array([line.split()[1:] for line in human.split('\\n') if line.startswith('v ')], dtype=\"float\")\n",
    "print(verts[0])\n",
    "faces = np.array([line.split()[1:] for line in human.split('\\n') if line.startswith('f ')], dtype=\"int\")\n",
    "# remember that faces are 1-indexed in obj files therefore we have to substract\n",
    "# one from every element.\n",
    "faces = faces - 1\n",
    "print(faces[0])\n"
   ]
  },
  {
   "cell_type": "code",
   "execution_count": 8,
   "metadata": {},
   "outputs": [
    {
     "name": "stdout",
     "output_type": "stream",
     "text": [
      "\u001b[1mpoints():\n",
      " [0.048528 0.515771 0.106025]\u001b[0m\n",
      "\u001b[1mfaces(): \n",
      " [1, 2, 0]\u001b[0m\n"
     ]
    }
   ],
   "source": [
    "m = Mesh([verts, faces])\n",
    "# the way vertices are assembled into polygons can be retrieved\n",
    "# in two different formats:\n",
    "printc('points():\\n', m.points()[0])\n",
    "printc('faces(): \\n', m.faces()[0])"
   ]
  },
  {
   "cell_type": "code",
   "execution_count": 9,
   "metadata": {
    "scrolled": true
   },
   "outputs": [
    {
     "data": {
      "application/vnd.jupyter.widget-view+json": {
       "model_id": "ea5ae54274314965846608d6a7a65de0",
       "version_major": 2,
       "version_minor": 0
      },
      "text/plain": [
       "Plot(antialias=3, axes=['x', 'y', 'z'], axes_helper=1.0, background_color=16777215, camera=[0.0238663910294473…"
      ]
     },
     "metadata": {},
     "output_type": "display_data"
    }
   ],
   "source": [
    "#embedWindow('itkwidgets') # or k3d\n",
    "embedWindow('k3d')\n",
    "#embedWindow(False)\n",
    "m.color('blue')\n",
    "m.show()"
   ]
  },
  {
   "cell_type": "code",
   "execution_count": null,
   "metadata": {},
   "outputs": [],
   "source": []
  }
 ],
 "metadata": {
  "kernelspec": {
   "display_name": "py36cu10t14",
   "language": "python",
   "name": "py36cu10t14"
  },
  "language_info": {
   "codemirror_mode": {
    "name": "ipython",
    "version": 3
   },
   "file_extension": ".py",
   "mimetype": "text/x-python",
   "name": "python",
   "nbconvert_exporter": "python",
   "pygments_lexer": "ipython3",
   "version": "3.6.7"
  }
 },
 "nbformat": 4,
 "nbformat_minor": 2
}
