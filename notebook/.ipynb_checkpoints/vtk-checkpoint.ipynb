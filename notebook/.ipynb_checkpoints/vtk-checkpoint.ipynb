{
 "cells": [
  {
   "cell_type": "markdown",
   "metadata": {},
   "source": [
    "# Importing VTK data to be displayed as Mesh\n",
    "\n",
    "Additional requirements for this example: `vtk`\n",
    "\n",
    "We will also see how to do some processing with `vtk` and visualize its results."
   ]
  },
  {
   "cell_type": "code",
   "execution_count": 1,
   "metadata": {},
   "outputs": [
    {
     "name": "stdout",
     "output_type": "stream",
     "text": [
      "Downloading: cow.vtp\n"
     ]
    },
    {
     "data": {
      "application/vnd.jupyter.widget-view+json": {
       "model_id": "c51765c4ef5b41e7ae449bfb5b0395de",
       "version_major": 2,
       "version_minor": 0
      },
      "text/plain": [
       "Output()"
      ]
     },
     "metadata": {},
     "output_type": "display_data"
    }
   ],
   "source": [
    "import k3d\n",
    "import os\n",
    "import vtk\n",
    "import numpy as np\n",
    "\n",
    "from k3d.helpers import download\n",
    "\n",
    "filename = download('https://raw.githubusercontent.com/naucoin/VTKData/master/Data/cow.vtp')\n",
    "\n",
    "model_matrix = (\n",
    "     1.0,  0.0, 0.0, 0.0,\n",
    "     0.0,  0.0, 1.0, 0.0,\n",
    "     0.0,  1.0, 0.0, 0.0,\n",
    "     0.0,  0.0, 0.0, 1.0\n",
    ")\n",
    "\n",
    "reader = vtk.vtkXMLPolyDataReader()\n",
    "reader.SetFileName(filename)\n",
    "reader.Update()\n",
    "\n",
    "plot = k3d.plot()\n",
    "cow3d = k3d.vtk_poly_data(reader.GetOutput(), color=0xff0000, model_matrix=model_matrix)\n",
    "plot += cow3d\n",
    "plot.display()"
   ]
  },
  {
   "cell_type": "code",
   "execution_count": 2,
   "metadata": {},
   "outputs": [
    {
     "ename": "ModuleNotFoundError",
     "evalue": "No module named 'msgpack'",
     "output_type": "error",
     "traceback": [
      "\u001b[0;31m---------------------------------------------------------------------------\u001b[0m",
      "\u001b[0;31mModuleNotFoundError\u001b[0m                       Traceback (most recent call last)",
      "\u001b[0;32m<ipython-input-2-e7474d6652a0>\u001b[0m in \u001b[0;36m<module>\u001b[0;34m\u001b[0m\n\u001b[1;32m      1\u001b[0m \u001b[0mf\u001b[0m \u001b[0;34m=\u001b[0m \u001b[0mopen\u001b[0m\u001b[0;34m(\u001b[0m\u001b[0;34m'./output.html'\u001b[0m\u001b[0;34m,\u001b[0m \u001b[0;34m'w'\u001b[0m\u001b[0;34m,\u001b[0m \u001b[0mencoding\u001b[0m\u001b[0;34m=\u001b[0m\u001b[0;34m'UTF-8'\u001b[0m\u001b[0;34m)\u001b[0m\u001b[0;34m\u001b[0m\u001b[0;34m\u001b[0m\u001b[0m\n\u001b[0;32m----> 2\u001b[0;31m \u001b[0mf\u001b[0m\u001b[0;34m.\u001b[0m\u001b[0mwrite\u001b[0m\u001b[0;34m(\u001b[0m\u001b[0mplot\u001b[0m\u001b[0;34m.\u001b[0m\u001b[0mget_snapshot\u001b[0m\u001b[0;34m(\u001b[0m\u001b[0;36m9\u001b[0m\u001b[0;34m)\u001b[0m\u001b[0;34m)\u001b[0m\u001b[0;34m\u001b[0m\u001b[0;34m\u001b[0m\u001b[0m\n\u001b[0m\u001b[1;32m      3\u001b[0m \u001b[0mf\u001b[0m\u001b[0;34m.\u001b[0m\u001b[0mclose\u001b[0m\u001b[0;34m(\u001b[0m\u001b[0;34m)\u001b[0m\u001b[0;34m\u001b[0m\u001b[0;34m\u001b[0m\u001b[0m\n",
      "\u001b[0;32m~/anaconda2/envs/py36c10t14/lib/python3.6/site-packages/k3d/plot.py\u001b[0m in \u001b[0;36mget_snapshot\u001b[0;34m(self, compression_level, additional_js_code)\u001b[0m\n\u001b[1;32m    256\u001b[0m         \u001b[0;32mimport\u001b[0m \u001b[0mos\u001b[0m\u001b[0;34m\u001b[0m\u001b[0;34m\u001b[0m\u001b[0m\n\u001b[1;32m    257\u001b[0m         \u001b[0;32mimport\u001b[0m \u001b[0mio\u001b[0m\u001b[0;34m\u001b[0m\u001b[0;34m\u001b[0m\u001b[0m\n\u001b[0;32m--> 258\u001b[0;31m         \u001b[0;32mimport\u001b[0m \u001b[0mmsgpack\u001b[0m\u001b[0;34m\u001b[0m\u001b[0;34m\u001b[0m\u001b[0m\n\u001b[0m\u001b[1;32m    259\u001b[0m         \u001b[0;32mimport\u001b[0m \u001b[0mzlib\u001b[0m\u001b[0;34m\u001b[0m\u001b[0;34m\u001b[0m\u001b[0m\n\u001b[1;32m    260\u001b[0m         \u001b[0;32mfrom\u001b[0m \u001b[0;34m.\u001b[0m\u001b[0mhelpers\u001b[0m \u001b[0;32mimport\u001b[0m \u001b[0mto_json\u001b[0m\u001b[0;34m\u001b[0m\u001b[0;34m\u001b[0m\u001b[0m\n",
      "\u001b[0;31mModuleNotFoundError\u001b[0m: No module named 'msgpack'"
     ]
    }
   ],
   "source": [
    "f = open('./output.html', 'w', encoding='UTF-8')\n",
    "f.write(plot.get_snapshot(9))\n",
    "f.close()"
   ]
  },
  {
   "cell_type": "code",
   "execution_count": 3,
   "metadata": {},
   "outputs": [],
   "source": [
    "cow3d.wireframe = True"
   ]
  },
  {
   "cell_type": "code",
   "execution_count": 4,
   "metadata": {},
   "outputs": [],
   "source": [
    "cow3d.wireframe = False"
   ]
  },
  {
   "cell_type": "code",
   "execution_count": 5,
   "metadata": {},
   "outputs": [],
   "source": [
    "plane=vtk.vtkPlane()\n",
    "plane.SetOrigin(0,0,0)\n",
    "plane.SetNormal(1,1,0)\n",
    " \n",
    "cutter=vtk.vtkCutter()\n",
    "cutter.SetCutFunction(plane)\n",
    "cutter.SetInputConnection(reader.GetOutputPort())\n",
    "cutter.Update()\n",
    "\n",
    "FeatureEdges = vtk.vtkFeatureEdges()\n",
    "FeatureEdges.SetInputConnection(cutter.GetOutputPort())\n",
    "FeatureEdges.BoundaryEdgesOn()\n",
    "FeatureEdges.FeatureEdgesOff()\n",
    "FeatureEdges.NonManifoldEdgesOff()\n",
    "FeatureEdges.ManifoldEdgesOff()\n",
    "FeatureEdges.Update()\n",
    "\n",
    "cutStrips = vtk.vtkStripper() ; #Forms loops (closed polylines) from cutter\n",
    "cutStrips.SetInputConnection(cutter.GetOutputPort())\n",
    "cutStrips.Update()\n",
    "\n",
    "cutPoly = vtk.vtkPolyData() ; #This trick defines polygons as polyline loop\n",
    "cutPoly.SetPoints((cutStrips.GetOutput()).GetPoints())\n",
    "cutPoly.SetPolys((cutStrips.GetOutput()).GetLines())"
   ]
  },
  {
   "cell_type": "code",
   "execution_count": 6,
   "metadata": {},
   "outputs": [],
   "source": [
    "model_matrix = (\n",
    "     1.0,  0.0, 0.0, 0.0,\n",
    "     0.0,  0.0, 1.0, -5.0,\n",
    "     0.0,  1.0, 0.0, 0.0,\n",
    "     0.0,  0.0, 0.0, 1.0\n",
    ")\n",
    "plot += k3d.vtk_poly_data(cutPoly, color=0x0000ff,  model_matrix=model_matrix)"
   ]
  },
  {
   "cell_type": "code",
   "execution_count": null,
   "metadata": {},
   "outputs": [],
   "source": []
  }
 ],
 "metadata": {
  "kernelspec": {
   "display_name": "Python 3",
   "language": "python",
   "name": "python3"
  },
  "language_info": {
   "codemirror_mode": {
    "name": "ipython",
    "version": 3
   },
   "file_extension": ".py",
   "mimetype": "text/x-python",
   "name": "python",
   "nbconvert_exporter": "python",
   "pygments_lexer": "ipython3",
   "version": "3.6.7"
  }
 },
 "nbformat": 4,
 "nbformat_minor": 2
}
