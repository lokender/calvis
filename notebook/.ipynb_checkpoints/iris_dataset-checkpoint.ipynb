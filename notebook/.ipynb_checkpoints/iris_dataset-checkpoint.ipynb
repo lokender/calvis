{
 "cells": [
  {
   "cell_type": "markdown",
   "metadata": {},
   "source": [
    "# Iris dataset example\n",
    "\n",
    "This example showcases using K3D to visualize data. Addtional requirements: `scikit-learn`"
   ]
  },
  {
   "cell_type": "code",
   "execution_count": 1,
   "metadata": {
    "ExecuteTime": {
     "end_time": "2019-04-18T20:40:37.580348Z",
     "start_time": "2019-04-18T20:40:37.394862Z"
    }
   },
   "outputs": [],
   "source": [
    "try:\n",
    "    import sklearn\n",
    "except ImportError:\n",
    "    %pip install scikit-learn"
   ]
  },
  {
   "cell_type": "code",
   "execution_count": 2,
   "metadata": {
    "ExecuteTime": {
     "end_time": "2019-04-18T20:40:46.224530Z",
     "start_time": "2019-04-18T20:40:45.715673Z"
    }
   },
   "outputs": [],
   "source": [
    "from sklearn.datasets import load_iris\n",
    "from sklearn.manifold import TSNE\n",
    "\n",
    "from k3d import plot, points, nice_colors, text2d"
   ]
  },
  {
   "cell_type": "code",
   "execution_count": 3,
   "metadata": {
    "ExecuteTime": {
     "end_time": "2019-04-18T20:40:47.160075Z",
     "start_time": "2019-04-18T20:40:47.140711Z"
    }
   },
   "outputs": [],
   "source": [
    "iris = load_iris()"
   ]
  },
  {
   "cell_type": "markdown",
   "metadata": {},
   "source": [
    "# Plots omitting each column once"
   ]
  },
  {
   "cell_type": "code",
   "execution_count": 4,
   "metadata": {
    "ExecuteTime": {
     "end_time": "2019-04-18T20:40:49.492820Z",
     "start_time": "2019-04-18T20:40:49.483242Z"
    }
   },
   "outputs": [],
   "source": [
    "from k3d import plot, points, nice_colors, text2d\n",
    "import numpy as np\n",
    "\n",
    "def legend(p, axes):\n",
    "    \"\"\"Display classes' names in their color.\"\"\"\n",
    "    k3dplot = plot(axes=['\\:'.join(a.split(' ')) for a in axes.tolist()])\n",
    "    k3dplot += p\n",
    "    for i, name in enumerate(iris.target_names):\n",
    "        k3dplot += text2d(text=name, color=nice_colors[i], position=(0, i / 10))\n",
    "    return k3dplot\n",
    "\n",
    "def point_size(data, resolution=20.):\n",
    "    span = max(np.max(data, axis=0) - np.min(data, axis=0))\n",
    "    return span / resolution\n",
    "\n",
    "common = dict(\n",
    "    point_size=point_size(iris.data), \n",
    "    colors=[nice_colors[i] for i in iris.target]\n",
    ")"
   ]
  },
  {
   "cell_type": "code",
   "execution_count": 5,
   "metadata": {
    "ExecuteTime": {
     "end_time": "2019-04-18T20:40:50.222684Z",
     "start_time": "2019-04-18T20:40:50.210636Z"
    }
   },
   "outputs": [],
   "source": [
    "def iris_omit(column_index):\n",
    "    names = np.roll(iris.feature_names, column_index)\n",
    "    print('omitting', names[0])\n",
    "    for dim, name in zip('xyz', names[1:]):\n",
    "        print(dim, 'is', name)\n",
    "    return (np.roll(iris.data, column_index, axis=1)[:, 1:].astype(np.float32), names[1:])"
   ]
  },
  {
   "cell_type": "code",
   "execution_count": 8,
   "metadata": {
    "ExecuteTime": {
     "end_time": "2019-04-18T20:40:51.830949Z",
     "start_time": "2019-04-18T20:40:51.775439Z"
    },
    "scrolled": false
   },
   "outputs": [
    {
     "name": "stdout",
     "output_type": "stream",
     "text": [
      "omitting sepal length (cm)\n",
      "x is sepal width (cm)\n",
      "y is petal length (cm)\n",
      "z is petal width (cm)\n"
     ]
    },
    {
     "data": {
      "application/vnd.jupyter.widget-view+json": {
       "model_id": "5d4daaa667814675a7765b127070535b",
       "version_major": 2,
       "version_minor": 0
      },
      "text/plain": [
       "Plot(antialias=3, axes=['sepal\\\\:width\\\\:(cm)', 'petal\\\\:length\\\\:(cm)', 'petal\\\\:width\\\\:(cm)'], axes_helper=…"
      ]
     },
     "metadata": {},
     "output_type": "display_data"
    }
   ],
   "source": [
    "p, axes = iris_omit(0)\n",
    "legend(points(p, **common), axes)"
   ]
  },
  {
   "cell_type": "code",
   "execution_count": 9,
   "metadata": {
    "ExecuteTime": {
     "end_time": "2019-04-18T13:40:41.002294Z",
     "start_time": "2019-04-18T13:40:40.965961Z"
    },
    "scrolled": false
   },
   "outputs": [
    {
     "name": "stdout",
     "output_type": "stream",
     "text": [
      "omitting petal width (cm)\n",
      "x is sepal length (cm)\n",
      "y is sepal width (cm)\n",
      "z is petal length (cm)\n"
     ]
    },
    {
     "data": {
      "application/vnd.jupyter.widget-view+json": {
       "model_id": "c795033ab1104c2eb414834748ba8214",
       "version_major": 2,
       "version_minor": 0
      },
      "text/plain": [
       "Plot(antialias=3, axes=['sepal\\\\:length\\\\:(cm)', 'sepal\\\\:width\\\\:(cm)', 'petal\\\\:length\\\\:(cm)'], axes_helper…"
      ]
     },
     "metadata": {},
     "output_type": "display_data"
    }
   ],
   "source": [
    "p, axes = iris_omit(1)\n",
    "legend(points(p, **common), axes)"
   ]
  },
  {
   "cell_type": "code",
   "execution_count": 10,
   "metadata": {
    "ExecuteTime": {
     "end_time": "2019-04-18T13:40:42.317941Z",
     "start_time": "2019-04-18T13:40:42.276879Z"
    },
    "scrolled": false
   },
   "outputs": [
    {
     "name": "stdout",
     "output_type": "stream",
     "text": [
      "omitting petal length (cm)\n",
      "x is petal width (cm)\n",
      "y is sepal length (cm)\n",
      "z is sepal width (cm)\n"
     ]
    },
    {
     "data": {
      "application/vnd.jupyter.widget-view+json": {
       "model_id": "cf9d4a72cefd4e9dbddf8929195ad39b",
       "version_major": 2,
       "version_minor": 0
      },
      "text/plain": [
       "Plot(antialias=3, axes=['petal\\\\:width\\\\:(cm)', 'sepal\\\\:length\\\\:(cm)', 'sepal\\\\:width\\\\:(cm)'], axes_helper=…"
      ]
     },
     "metadata": {},
     "output_type": "display_data"
    }
   ],
   "source": [
    "p, axes = iris_omit(2)\n",
    "legend(points(p, **common), axes)"
   ]
  },
  {
   "cell_type": "code",
   "execution_count": 11,
   "metadata": {
    "ExecuteTime": {
     "end_time": "2019-04-18T13:40:43.365839Z",
     "start_time": "2019-04-18T13:40:43.318006Z"
    },
    "scrolled": false
   },
   "outputs": [
    {
     "name": "stdout",
     "output_type": "stream",
     "text": [
      "omitting sepal width (cm)\n",
      "x is petal length (cm)\n",
      "y is petal width (cm)\n",
      "z is sepal length (cm)\n"
     ]
    },
    {
     "data": {
      "application/vnd.jupyter.widget-view+json": {
       "model_id": "90e835d5139349b38190d3269745853e",
       "version_major": 2,
       "version_minor": 0
      },
      "text/plain": [
       "Plot(antialias=3, axes=['petal\\\\:length\\\\:(cm)', 'petal\\\\:width\\\\:(cm)', 'sepal\\\\:length\\\\:(cm)'], axes_helper…"
      ]
     },
     "metadata": {},
     "output_type": "display_data"
    }
   ],
   "source": [
    "p, axes = iris_omit(3)\n",
    "legend(points(p, **common), axes)"
   ]
  },
  {
   "cell_type": "markdown",
   "metadata": {},
   "source": [
    "# 3-D trainable Stochastic Neighbor Embedding\n",
    "\n",
    "This can look a little different every time around.\n",
    "\n",
    "**NOTE**: this is unsupervised learning, tSNE doesn't get the labels. And still, it clusters."
   ]
  },
  {
   "cell_type": "code",
   "execution_count": 12,
   "metadata": {
    "ExecuteTime": {
     "end_time": "2019-04-18T20:43:19.952715Z",
     "start_time": "2019-04-18T20:43:19.945843Z"
    }
   },
   "outputs": [],
   "source": [
    "tsne = TSNE(n_components=3, verbose=1, perplexity=40, n_iter=3000)"
   ]
  },
  {
   "cell_type": "code",
   "execution_count": 13,
   "metadata": {
    "ExecuteTime": {
     "end_time": "2019-04-18T20:43:26.641354Z",
     "start_time": "2019-04-18T20:43:20.582832Z"
    }
   },
   "outputs": [
    {
     "name": "stdout",
     "output_type": "stream",
     "text": [
      "[t-SNE] Computing 121 nearest neighbors...\n",
      "[t-SNE] Indexed 150 samples in 0.000s...\n",
      "[t-SNE] Computed neighbors for 150 samples in 0.005s...\n",
      "[t-SNE] Computed conditional probabilities for sample 150 / 150\n",
      "[t-SNE] Mean sigma: 0.667454\n",
      "[t-SNE] KL divergence after 250 iterations with early exaggeration: 97.631813\n",
      "[t-SNE] KL divergence after 3000 iterations: 1.099588\n"
     ]
    }
   ],
   "source": [
    "tsne_results = tsne.fit_transform(iris.data).astype(np.float32)"
   ]
  },
  {
   "cell_type": "code",
   "execution_count": 14,
   "metadata": {
    "ExecuteTime": {
     "end_time": "2019-04-18T20:43:26.650496Z",
     "start_time": "2019-04-18T20:43:26.643330Z"
    }
   },
   "outputs": [
    {
     "data": {
      "text/plain": [
       "array([[   8.496279,  213.87694 ,  126.09281 ],\n",
       "       [ 129.11748 ,  211.5936  ,  236.7509  ],\n",
       "       [ 248.33766 ,  198.84265 , -361.45593 ],\n",
       "       [ 101.12183 ,   43.96559 ,  105.963356],\n",
       "       [ -52.295998,  122.46141 ,   96.25618 ]], dtype=float32)"
      ]
     },
     "execution_count": 14,
     "metadata": {},
     "output_type": "execute_result"
    }
   ],
   "source": [
    "tsne_results[:5]"
   ]
  },
  {
   "cell_type": "code",
   "execution_count": 15,
   "metadata": {
    "ExecuteTime": {
     "end_time": "2019-04-18T20:43:39.427908Z",
     "start_time": "2019-04-18T20:43:39.399251Z"
    }
   },
   "outputs": [
    {
     "data": {
      "application/vnd.jupyter.widget-view+json": {
       "model_id": "eece03d202694cbd91dbff297ec64377",
       "version_major": 2,
       "version_minor": 0
      },
      "text/plain": [
       "Plot(antialias=3, axes=['petal\\\\:length\\\\:(cm)', 'petal\\\\:width\\\\:(cm)', 'sepal\\\\:length\\\\:(cm)'], axes_helper…"
      ]
     },
     "metadata": {},
     "output_type": "display_data"
    }
   ],
   "source": [
    "common['point_size'] = point_size(tsne_results)\n",
    "legend(points(tsne_results, **common), axes)"
   ]
  },
  {
   "cell_type": "code",
   "execution_count": null,
   "metadata": {},
   "outputs": [],
   "source": []
  },
  {
   "cell_type": "code",
   "execution_count": null,
   "metadata": {},
   "outputs": [],
   "source": []
  }
 ],
 "metadata": {
  "kernelspec": {
   "display_name": "Python 3",
   "language": "python",
   "name": "python3"
  },
  "language_info": {
   "codemirror_mode": {
    "name": "ipython",
    "version": 3
   },
   "file_extension": ".py",
   "mimetype": "text/x-python",
   "name": "python",
   "nbconvert_exporter": "python",
   "pygments_lexer": "ipython3",
   "version": "3.6.7"
  }
 },
 "nbformat": 4,
 "nbformat_minor": 2
}
